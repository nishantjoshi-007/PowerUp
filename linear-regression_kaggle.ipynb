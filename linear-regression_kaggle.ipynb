{
 "cells": [
  {
   "cell_type": "code",
   "execution_count": 1,
   "metadata": {
    "_cell_guid": "79c7e3d0-c299-4dcb-8224-4455121ee9b0",
    "_uuid": "d629ff2d2480ee46fbb7e2d37f6b5fab8052498a",
    "execution": {
     "iopub.execute_input": "2021-01-25T12:03:47.185935Z",
     "iopub.status.busy": "2021-01-25T12:03:47.185240Z",
     "iopub.status.idle": "2021-01-25T12:03:48.369353Z",
     "shell.execute_reply": "2021-01-25T12:03:48.368338Z"
    },
    "papermill": {
     "duration": 1.21356,
     "end_time": "2021-01-25T12:03:48.369538",
     "exception": false,
     "start_time": "2021-01-25T12:03:47.155978",
     "status": "completed"
    },
    "tags": []
   },
   "outputs": [],
   "source": [
    "import numpy as np \n",
    "import pandas as pd\n",
    "from sklearn.linear_model import LinearRegression"
   ]
  },
  {
   "cell_type": "markdown",
   "metadata": {
    "papermill": {
     "duration": 0.027956,
     "end_time": "2021-01-25T12:03:48.432904",
     "exception": false,
     "start_time": "2021-01-25T12:03:48.404948",
     "status": "completed"
    },
    "tags": []
   },
   "source": [
    "# ****Include DataSet****"
   ]
  },
  {
   "cell_type": "code",
   "execution_count": 2,
   "metadata": {
    "execution": {
     "iopub.execute_input": "2021-01-25T12:03:48.502497Z",
     "iopub.status.busy": "2021-01-25T12:03:48.501782Z",
     "iopub.status.idle": "2021-01-25T12:03:48.604138Z",
     "shell.execute_reply": "2021-01-25T12:03:48.602711Z"
    },
    "papermill": {
     "duration": 0.141224,
     "end_time": "2021-01-25T12:03:48.604309",
     "exception": false,
     "start_time": "2021-01-25T12:03:48.463085",
     "status": "completed"
    },
    "tags": []
   },
   "outputs": [
    {
     "data": {
      "text/html": [
       "<div>\n",
       "<style scoped>\n",
       "    .dataframe tbody tr th:only-of-type {\n",
       "        vertical-align: middle;\n",
       "    }\n",
       "\n",
       "    .dataframe tbody tr th {\n",
       "        vertical-align: top;\n",
       "    }\n",
       "\n",
       "    .dataframe thead th {\n",
       "        text-align: right;\n",
       "    }\n",
       "</style>\n",
       "<table border=\"1\" class=\"dataframe\">\n",
       "  <thead>\n",
       "    <tr style=\"text-align: right;\">\n",
       "      <th></th>\n",
       "      <th>Rank</th>\n",
       "      <th>Name</th>\n",
       "      <th>Platform</th>\n",
       "      <th>Year</th>\n",
       "      <th>Genre</th>\n",
       "      <th>Publisher</th>\n",
       "      <th>NA_Sales</th>\n",
       "      <th>EU_Sales</th>\n",
       "      <th>JP_Sales</th>\n",
       "      <th>Other_Sales</th>\n",
       "      <th>Global_Sales</th>\n",
       "    </tr>\n",
       "  </thead>\n",
       "  <tbody>\n",
       "    <tr>\n",
       "      <th>0</th>\n",
       "      <td>1</td>\n",
       "      <td>Wii Sports</td>\n",
       "      <td>Wii</td>\n",
       "      <td>2006.0</td>\n",
       "      <td>Sports</td>\n",
       "      <td>Nintendo</td>\n",
       "      <td>41.49</td>\n",
       "      <td>29.02</td>\n",
       "      <td>3.77</td>\n",
       "      <td>8.46</td>\n",
       "      <td>82.74</td>\n",
       "    </tr>\n",
       "    <tr>\n",
       "      <th>1</th>\n",
       "      <td>2</td>\n",
       "      <td>Super Mario Bros.</td>\n",
       "      <td>NES</td>\n",
       "      <td>1985.0</td>\n",
       "      <td>Platform</td>\n",
       "      <td>Nintendo</td>\n",
       "      <td>29.08</td>\n",
       "      <td>3.58</td>\n",
       "      <td>6.81</td>\n",
       "      <td>0.77</td>\n",
       "      <td>40.24</td>\n",
       "    </tr>\n",
       "    <tr>\n",
       "      <th>2</th>\n",
       "      <td>3</td>\n",
       "      <td>Mario Kart Wii</td>\n",
       "      <td>Wii</td>\n",
       "      <td>2008.0</td>\n",
       "      <td>Racing</td>\n",
       "      <td>Nintendo</td>\n",
       "      <td>15.85</td>\n",
       "      <td>12.88</td>\n",
       "      <td>3.79</td>\n",
       "      <td>3.31</td>\n",
       "      <td>35.82</td>\n",
       "    </tr>\n",
       "    <tr>\n",
       "      <th>3</th>\n",
       "      <td>4</td>\n",
       "      <td>Wii Sports Resort</td>\n",
       "      <td>Wii</td>\n",
       "      <td>2009.0</td>\n",
       "      <td>Sports</td>\n",
       "      <td>Nintendo</td>\n",
       "      <td>15.75</td>\n",
       "      <td>11.01</td>\n",
       "      <td>3.28</td>\n",
       "      <td>2.96</td>\n",
       "      <td>33.00</td>\n",
       "    </tr>\n",
       "    <tr>\n",
       "      <th>4</th>\n",
       "      <td>5</td>\n",
       "      <td>Pokemon Red/Pokemon Blue</td>\n",
       "      <td>GB</td>\n",
       "      <td>1996.0</td>\n",
       "      <td>Role-Playing</td>\n",
       "      <td>Nintendo</td>\n",
       "      <td>11.27</td>\n",
       "      <td>8.89</td>\n",
       "      <td>10.22</td>\n",
       "      <td>1.00</td>\n",
       "      <td>31.37</td>\n",
       "    </tr>\n",
       "  </tbody>\n",
       "</table>\n",
       "</div>"
      ],
      "text/plain": [
       "   Rank                      Name Platform    Year         Genre Publisher  \\\n",
       "0     1                Wii Sports      Wii  2006.0        Sports  Nintendo   \n",
       "1     2         Super Mario Bros.      NES  1985.0      Platform  Nintendo   \n",
       "2     3            Mario Kart Wii      Wii  2008.0        Racing  Nintendo   \n",
       "3     4         Wii Sports Resort      Wii  2009.0        Sports  Nintendo   \n",
       "4     5  Pokemon Red/Pokemon Blue       GB  1996.0  Role-Playing  Nintendo   \n",
       "\n",
       "   NA_Sales  EU_Sales  JP_Sales  Other_Sales  Global_Sales  \n",
       "0     41.49     29.02      3.77         8.46         82.74  \n",
       "1     29.08      3.58      6.81         0.77         40.24  \n",
       "2     15.85     12.88      3.79         3.31         35.82  \n",
       "3     15.75     11.01      3.28         2.96         33.00  \n",
       "4     11.27      8.89     10.22         1.00         31.37  "
      ]
     },
     "execution_count": 2,
     "metadata": {},
     "output_type": "execute_result"
    }
   ],
   "source": [
    "df = pd.read_csv(\"./vgsales.csv\")\n",
    "df.head()"
   ]
  },
  {
   "cell_type": "code",
   "execution_count": 3,
   "metadata": {
    "execution": {
     "iopub.execute_input": "2021-01-25T12:03:48.677259Z",
     "iopub.status.busy": "2021-01-25T12:03:48.676218Z",
     "iopub.status.idle": "2021-01-25T12:03:48.691087Z",
     "shell.execute_reply": "2021-01-25T12:03:48.691939Z"
    },
    "papermill": {
     "duration": 0.056379,
     "end_time": "2021-01-25T12:03:48.692139",
     "exception": false,
     "start_time": "2021-01-25T12:03:48.635760",
     "status": "completed"
    },
    "tags": []
   },
   "outputs": [
    {
     "name": "stdout",
     "output_type": "stream",
     "text": [
      "<class 'pandas.core.frame.DataFrame'>\n",
      "RangeIndex: 16598 entries, 0 to 16597\n",
      "Data columns (total 11 columns):\n",
      " #   Column        Non-Null Count  Dtype  \n",
      "---  ------        --------------  -----  \n",
      " 0   Rank          16598 non-null  int64  \n",
      " 1   Name          16598 non-null  object \n",
      " 2   Platform      16598 non-null  object \n",
      " 3   Year          16327 non-null  float64\n",
      " 4   Genre         16598 non-null  object \n",
      " 5   Publisher     16540 non-null  object \n",
      " 6   NA_Sales      16598 non-null  float64\n",
      " 7   EU_Sales      16598 non-null  float64\n",
      " 8   JP_Sales      16598 non-null  float64\n",
      " 9   Other_Sales   16598 non-null  float64\n",
      " 10  Global_Sales  16598 non-null  float64\n",
      "dtypes: float64(6), int64(1), object(4)\n",
      "memory usage: 1.4+ MB\n"
     ]
    }
   ],
   "source": [
    "df.info()"
   ]
  },
  {
   "cell_type": "code",
   "execution_count": 4,
   "metadata": {
    "execution": {
     "iopub.execute_input": "2021-01-25T12:03:48.755685Z",
     "iopub.status.busy": "2021-01-25T12:03:48.754673Z",
     "iopub.status.idle": "2021-01-25T12:03:48.793762Z",
     "shell.execute_reply": "2021-01-25T12:03:48.794321Z"
    },
    "papermill": {
     "duration": 0.069337,
     "end_time": "2021-01-25T12:03:48.794469",
     "exception": false,
     "start_time": "2021-01-25T12:03:48.725132",
     "status": "completed"
    },
    "tags": []
   },
   "outputs": [
    {
     "data": {
      "text/html": [
       "<div>\n",
       "<style scoped>\n",
       "    .dataframe tbody tr th:only-of-type {\n",
       "        vertical-align: middle;\n",
       "    }\n",
       "\n",
       "    .dataframe tbody tr th {\n",
       "        vertical-align: top;\n",
       "    }\n",
       "\n",
       "    .dataframe thead th {\n",
       "        text-align: right;\n",
       "    }\n",
       "</style>\n",
       "<table border=\"1\" class=\"dataframe\">\n",
       "  <thead>\n",
       "    <tr style=\"text-align: right;\">\n",
       "      <th></th>\n",
       "      <th>count</th>\n",
       "      <th>mean</th>\n",
       "      <th>std</th>\n",
       "      <th>min</th>\n",
       "      <th>25%</th>\n",
       "      <th>50%</th>\n",
       "      <th>75%</th>\n",
       "      <th>max</th>\n",
       "    </tr>\n",
       "  </thead>\n",
       "  <tbody>\n",
       "    <tr>\n",
       "      <th>Rank</th>\n",
       "      <td>16598.0</td>\n",
       "      <td>8300.605254</td>\n",
       "      <td>4791.853933</td>\n",
       "      <td>1.00</td>\n",
       "      <td>4151.25</td>\n",
       "      <td>8300.50</td>\n",
       "      <td>12449.75</td>\n",
       "      <td>16600.00</td>\n",
       "    </tr>\n",
       "    <tr>\n",
       "      <th>Year</th>\n",
       "      <td>16327.0</td>\n",
       "      <td>2006.406443</td>\n",
       "      <td>5.828981</td>\n",
       "      <td>1980.00</td>\n",
       "      <td>2003.00</td>\n",
       "      <td>2007.00</td>\n",
       "      <td>2010.00</td>\n",
       "      <td>2020.00</td>\n",
       "    </tr>\n",
       "    <tr>\n",
       "      <th>NA_Sales</th>\n",
       "      <td>16598.0</td>\n",
       "      <td>0.264667</td>\n",
       "      <td>0.816683</td>\n",
       "      <td>0.00</td>\n",
       "      <td>0.00</td>\n",
       "      <td>0.08</td>\n",
       "      <td>0.24</td>\n",
       "      <td>41.49</td>\n",
       "    </tr>\n",
       "    <tr>\n",
       "      <th>EU_Sales</th>\n",
       "      <td>16598.0</td>\n",
       "      <td>0.146652</td>\n",
       "      <td>0.505351</td>\n",
       "      <td>0.00</td>\n",
       "      <td>0.00</td>\n",
       "      <td>0.02</td>\n",
       "      <td>0.11</td>\n",
       "      <td>29.02</td>\n",
       "    </tr>\n",
       "    <tr>\n",
       "      <th>JP_Sales</th>\n",
       "      <td>16598.0</td>\n",
       "      <td>0.077782</td>\n",
       "      <td>0.309291</td>\n",
       "      <td>0.00</td>\n",
       "      <td>0.00</td>\n",
       "      <td>0.00</td>\n",
       "      <td>0.04</td>\n",
       "      <td>10.22</td>\n",
       "    </tr>\n",
       "    <tr>\n",
       "      <th>Other_Sales</th>\n",
       "      <td>16598.0</td>\n",
       "      <td>0.048063</td>\n",
       "      <td>0.188588</td>\n",
       "      <td>0.00</td>\n",
       "      <td>0.00</td>\n",
       "      <td>0.01</td>\n",
       "      <td>0.04</td>\n",
       "      <td>10.57</td>\n",
       "    </tr>\n",
       "    <tr>\n",
       "      <th>Global_Sales</th>\n",
       "      <td>16598.0</td>\n",
       "      <td>0.537441</td>\n",
       "      <td>1.555028</td>\n",
       "      <td>0.01</td>\n",
       "      <td>0.06</td>\n",
       "      <td>0.17</td>\n",
       "      <td>0.47</td>\n",
       "      <td>82.74</td>\n",
       "    </tr>\n",
       "  </tbody>\n",
       "</table>\n",
       "</div>"
      ],
      "text/plain": [
       "                count         mean          std      min      25%      50%  \\\n",
       "Rank          16598.0  8300.605254  4791.853933     1.00  4151.25  8300.50   \n",
       "Year          16327.0  2006.406443     5.828981  1980.00  2003.00  2007.00   \n",
       "NA_Sales      16598.0     0.264667     0.816683     0.00     0.00     0.08   \n",
       "EU_Sales      16598.0     0.146652     0.505351     0.00     0.00     0.02   \n",
       "JP_Sales      16598.0     0.077782     0.309291     0.00     0.00     0.00   \n",
       "Other_Sales   16598.0     0.048063     0.188588     0.00     0.00     0.01   \n",
       "Global_Sales  16598.0     0.537441     1.555028     0.01     0.06     0.17   \n",
       "\n",
       "                   75%       max  \n",
       "Rank          12449.75  16600.00  \n",
       "Year           2010.00   2020.00  \n",
       "NA_Sales          0.24     41.49  \n",
       "EU_Sales          0.11     29.02  \n",
       "JP_Sales          0.04     10.22  \n",
       "Other_Sales       0.04     10.57  \n",
       "Global_Sales      0.47     82.74  "
      ]
     },
     "execution_count": 4,
     "metadata": {},
     "output_type": "execute_result"
    }
   ],
   "source": [
    "df.describe().T"
   ]
  },
  {
   "cell_type": "code",
   "execution_count": 5,
   "metadata": {
    "execution": {
     "iopub.execute_input": "2021-01-25T12:03:48.853454Z",
     "iopub.status.busy": "2021-01-25T12:03:48.852408Z",
     "iopub.status.idle": "2021-01-25T12:03:48.868420Z",
     "shell.execute_reply": "2021-01-25T12:03:48.868959Z"
    },
    "papermill": {
     "duration": 0.047397,
     "end_time": "2021-01-25T12:03:48.869108",
     "exception": false,
     "start_time": "2021-01-25T12:03:48.821711",
     "status": "completed"
    },
    "tags": []
   },
   "outputs": [
    {
     "data": {
      "text/plain": [
       "Rank              0\n",
       "Name              0\n",
       "Platform          0\n",
       "Year            271\n",
       "Genre             0\n",
       "Publisher        58\n",
       "NA_Sales          0\n",
       "EU_Sales          0\n",
       "JP_Sales          0\n",
       "Other_Sales       0\n",
       "Global_Sales      0\n",
       "dtype: int64"
      ]
     },
     "execution_count": 5,
     "metadata": {},
     "output_type": "execute_result"
    }
   ],
   "source": [
    "df.isnull().sum()"
   ]
  },
  {
   "cell_type": "markdown",
   "metadata": {
    "papermill": {
     "duration": 0.02735,
     "end_time": "2021-01-25T12:03:48.923899",
     "exception": false,
     "start_time": "2021-01-25T12:03:48.896549",
     "status": "completed"
    },
    "tags": []
   },
   "source": [
    "# Delete Unnecessary Variables For Data Science"
   ]
  },
  {
   "cell_type": "markdown",
   "metadata": {
    "papermill": {
     "duration": 0.026875,
     "end_time": "2021-01-25T12:03:48.978796",
     "exception": false,
     "start_time": "2021-01-25T12:03:48.951921",
     "status": "completed"
    },
    "tags": []
   },
   "source": [
    "We will not use \"Rank\", \"Name\", \"Year\", \"Publisher\" variables in this data set. So we will delete these variables from the data set using the \"drop\" function.\n",
    "\n",
    "In this function, the \"axis\" parameter determines whether it will be a row or a column. If we set \"axis = 1\", the column will be deleted.\n",
    "\n",
    "The \"inplace\" parameter is marked as \"False\" in the default setting. If we change this to \"True\", changes will be automatically saved in the data set.\n",
    "\n",
    "\n",
    "If we do not use the \"inplace\" parameter, we will have to do it \"\"\"df = df.drop ([\"Rank\", \"Name\", \"Year\", \"Publisher\"], axis = 1)\"\"\""
   ]
  },
  {
   "cell_type": "code",
   "execution_count": 6,
   "metadata": {
    "execution": {
     "iopub.execute_input": "2021-01-25T12:03:49.037888Z",
     "iopub.status.busy": "2021-01-25T12:03:49.036853Z",
     "iopub.status.idle": "2021-01-25T12:03:49.055544Z",
     "shell.execute_reply": "2021-01-25T12:03:49.056067Z"
    },
    "papermill": {
     "duration": 0.04989,
     "end_time": "2021-01-25T12:03:49.056208",
     "exception": false,
     "start_time": "2021-01-25T12:03:49.006318",
     "status": "completed"
    },
    "tags": []
   },
   "outputs": [
    {
     "data": {
      "text/html": [
       "<div>\n",
       "<style scoped>\n",
       "    .dataframe tbody tr th:only-of-type {\n",
       "        vertical-align: middle;\n",
       "    }\n",
       "\n",
       "    .dataframe tbody tr th {\n",
       "        vertical-align: top;\n",
       "    }\n",
       "\n",
       "    .dataframe thead th {\n",
       "        text-align: right;\n",
       "    }\n",
       "</style>\n",
       "<table border=\"1\" class=\"dataframe\">\n",
       "  <thead>\n",
       "    <tr style=\"text-align: right;\">\n",
       "      <th></th>\n",
       "      <th>Platform</th>\n",
       "      <th>Genre</th>\n",
       "      <th>NA_Sales</th>\n",
       "      <th>EU_Sales</th>\n",
       "      <th>JP_Sales</th>\n",
       "      <th>Other_Sales</th>\n",
       "      <th>Global_Sales</th>\n",
       "    </tr>\n",
       "  </thead>\n",
       "  <tbody>\n",
       "    <tr>\n",
       "      <th>0</th>\n",
       "      <td>Wii</td>\n",
       "      <td>Sports</td>\n",
       "      <td>41.49</td>\n",
       "      <td>29.02</td>\n",
       "      <td>3.77</td>\n",
       "      <td>8.46</td>\n",
       "      <td>82.74</td>\n",
       "    </tr>\n",
       "    <tr>\n",
       "      <th>1</th>\n",
       "      <td>NES</td>\n",
       "      <td>Platform</td>\n",
       "      <td>29.08</td>\n",
       "      <td>3.58</td>\n",
       "      <td>6.81</td>\n",
       "      <td>0.77</td>\n",
       "      <td>40.24</td>\n",
       "    </tr>\n",
       "    <tr>\n",
       "      <th>2</th>\n",
       "      <td>Wii</td>\n",
       "      <td>Racing</td>\n",
       "      <td>15.85</td>\n",
       "      <td>12.88</td>\n",
       "      <td>3.79</td>\n",
       "      <td>3.31</td>\n",
       "      <td>35.82</td>\n",
       "    </tr>\n",
       "    <tr>\n",
       "      <th>3</th>\n",
       "      <td>Wii</td>\n",
       "      <td>Sports</td>\n",
       "      <td>15.75</td>\n",
       "      <td>11.01</td>\n",
       "      <td>3.28</td>\n",
       "      <td>2.96</td>\n",
       "      <td>33.00</td>\n",
       "    </tr>\n",
       "    <tr>\n",
       "      <th>4</th>\n",
       "      <td>GB</td>\n",
       "      <td>Role-Playing</td>\n",
       "      <td>11.27</td>\n",
       "      <td>8.89</td>\n",
       "      <td>10.22</td>\n",
       "      <td>1.00</td>\n",
       "      <td>31.37</td>\n",
       "    </tr>\n",
       "  </tbody>\n",
       "</table>\n",
       "</div>"
      ],
      "text/plain": [
       "  Platform         Genre  NA_Sales  EU_Sales  JP_Sales  Other_Sales  \\\n",
       "0      Wii        Sports     41.49     29.02      3.77         8.46   \n",
       "1      NES      Platform     29.08      3.58      6.81         0.77   \n",
       "2      Wii        Racing     15.85     12.88      3.79         3.31   \n",
       "3      Wii        Sports     15.75     11.01      3.28         2.96   \n",
       "4       GB  Role-Playing     11.27      8.89     10.22         1.00   \n",
       "\n",
       "   Global_Sales  \n",
       "0         82.74  \n",
       "1         40.24  \n",
       "2         35.82  \n",
       "3         33.00  \n",
       "4         31.37  "
      ]
     },
     "execution_count": 6,
     "metadata": {},
     "output_type": "execute_result"
    }
   ],
   "source": [
    "df.drop([\"Rank\",\"Name\",\"Year\",\"Publisher\"],axis=1,inplace=True)\n",
    "df.head()"
   ]
  },
  {
   "cell_type": "markdown",
   "metadata": {
    "papermill": {
     "duration": 0.026998,
     "end_time": "2021-01-25T12:03:49.111108",
     "exception": false,
     "start_time": "2021-01-25T12:03:49.084110",
     "status": "completed"
    },
    "tags": []
   },
   "source": [
    "# Converting Categorical Variables To Numeric variables"
   ]
  },
  {
   "cell_type": "markdown",
   "metadata": {
    "papermill": {
     "duration": 0.028261,
     "end_time": "2021-01-25T12:03:49.166803",
     "exception": false,
     "start_time": "2021-01-25T12:03:49.138542",
     "status": "completed"
    },
    "tags": []
   },
   "source": [
    "\n",
    "Categorical variables are transformed with the \"get_dummies\" function in pandas."
   ]
  },
  {
   "cell_type": "code",
   "execution_count": 7,
   "metadata": {
    "execution": {
     "iopub.execute_input": "2021-01-25T12:03:49.228932Z",
     "iopub.status.busy": "2021-01-25T12:03:49.227945Z",
     "iopub.status.idle": "2021-01-25T12:03:49.257413Z",
     "shell.execute_reply": "2021-01-25T12:03:49.257935Z"
    },
    "papermill": {
     "duration": 0.060745,
     "end_time": "2021-01-25T12:03:49.258076",
     "exception": false,
     "start_time": "2021-01-25T12:03:49.197331",
     "status": "completed"
    },
    "tags": []
   },
   "outputs": [
    {
     "data": {
      "text/html": [
       "<div>\n",
       "<style scoped>\n",
       "    .dataframe tbody tr th:only-of-type {\n",
       "        vertical-align: middle;\n",
       "    }\n",
       "\n",
       "    .dataframe tbody tr th {\n",
       "        vertical-align: top;\n",
       "    }\n",
       "\n",
       "    .dataframe thead th {\n",
       "        text-align: right;\n",
       "    }\n",
       "</style>\n",
       "<table border=\"1\" class=\"dataframe\">\n",
       "  <thead>\n",
       "    <tr style=\"text-align: right;\">\n",
       "      <th></th>\n",
       "      <th>Platform_2600</th>\n",
       "      <th>Platform_3DO</th>\n",
       "      <th>Platform_3DS</th>\n",
       "      <th>Platform_DC</th>\n",
       "      <th>Platform_DS</th>\n",
       "      <th>Platform_GB</th>\n",
       "      <th>Platform_GBA</th>\n",
       "      <th>Platform_GC</th>\n",
       "      <th>Platform_GEN</th>\n",
       "      <th>Platform_GG</th>\n",
       "      <th>...</th>\n",
       "      <th>Genre_Fighting</th>\n",
       "      <th>Genre_Misc</th>\n",
       "      <th>Genre_Platform</th>\n",
       "      <th>Genre_Puzzle</th>\n",
       "      <th>Genre_Racing</th>\n",
       "      <th>Genre_Role-Playing</th>\n",
       "      <th>Genre_Shooter</th>\n",
       "      <th>Genre_Simulation</th>\n",
       "      <th>Genre_Sports</th>\n",
       "      <th>Genre_Strategy</th>\n",
       "    </tr>\n",
       "  </thead>\n",
       "  <tbody>\n",
       "    <tr>\n",
       "      <th>0</th>\n",
       "      <td>0</td>\n",
       "      <td>0</td>\n",
       "      <td>0</td>\n",
       "      <td>0</td>\n",
       "      <td>0</td>\n",
       "      <td>0</td>\n",
       "      <td>0</td>\n",
       "      <td>0</td>\n",
       "      <td>0</td>\n",
       "      <td>0</td>\n",
       "      <td>...</td>\n",
       "      <td>0</td>\n",
       "      <td>0</td>\n",
       "      <td>0</td>\n",
       "      <td>0</td>\n",
       "      <td>0</td>\n",
       "      <td>0</td>\n",
       "      <td>0</td>\n",
       "      <td>0</td>\n",
       "      <td>1</td>\n",
       "      <td>0</td>\n",
       "    </tr>\n",
       "    <tr>\n",
       "      <th>1</th>\n",
       "      <td>0</td>\n",
       "      <td>0</td>\n",
       "      <td>0</td>\n",
       "      <td>0</td>\n",
       "      <td>0</td>\n",
       "      <td>0</td>\n",
       "      <td>0</td>\n",
       "      <td>0</td>\n",
       "      <td>0</td>\n",
       "      <td>0</td>\n",
       "      <td>...</td>\n",
       "      <td>0</td>\n",
       "      <td>0</td>\n",
       "      <td>1</td>\n",
       "      <td>0</td>\n",
       "      <td>0</td>\n",
       "      <td>0</td>\n",
       "      <td>0</td>\n",
       "      <td>0</td>\n",
       "      <td>0</td>\n",
       "      <td>0</td>\n",
       "    </tr>\n",
       "    <tr>\n",
       "      <th>2</th>\n",
       "      <td>0</td>\n",
       "      <td>0</td>\n",
       "      <td>0</td>\n",
       "      <td>0</td>\n",
       "      <td>0</td>\n",
       "      <td>0</td>\n",
       "      <td>0</td>\n",
       "      <td>0</td>\n",
       "      <td>0</td>\n",
       "      <td>0</td>\n",
       "      <td>...</td>\n",
       "      <td>0</td>\n",
       "      <td>0</td>\n",
       "      <td>0</td>\n",
       "      <td>0</td>\n",
       "      <td>1</td>\n",
       "      <td>0</td>\n",
       "      <td>0</td>\n",
       "      <td>0</td>\n",
       "      <td>0</td>\n",
       "      <td>0</td>\n",
       "    </tr>\n",
       "    <tr>\n",
       "      <th>3</th>\n",
       "      <td>0</td>\n",
       "      <td>0</td>\n",
       "      <td>0</td>\n",
       "      <td>0</td>\n",
       "      <td>0</td>\n",
       "      <td>0</td>\n",
       "      <td>0</td>\n",
       "      <td>0</td>\n",
       "      <td>0</td>\n",
       "      <td>0</td>\n",
       "      <td>...</td>\n",
       "      <td>0</td>\n",
       "      <td>0</td>\n",
       "      <td>0</td>\n",
       "      <td>0</td>\n",
       "      <td>0</td>\n",
       "      <td>0</td>\n",
       "      <td>0</td>\n",
       "      <td>0</td>\n",
       "      <td>1</td>\n",
       "      <td>0</td>\n",
       "    </tr>\n",
       "    <tr>\n",
       "      <th>4</th>\n",
       "      <td>0</td>\n",
       "      <td>0</td>\n",
       "      <td>0</td>\n",
       "      <td>0</td>\n",
       "      <td>0</td>\n",
       "      <td>1</td>\n",
       "      <td>0</td>\n",
       "      <td>0</td>\n",
       "      <td>0</td>\n",
       "      <td>0</td>\n",
       "      <td>...</td>\n",
       "      <td>0</td>\n",
       "      <td>0</td>\n",
       "      <td>0</td>\n",
       "      <td>0</td>\n",
       "      <td>0</td>\n",
       "      <td>1</td>\n",
       "      <td>0</td>\n",
       "      <td>0</td>\n",
       "      <td>0</td>\n",
       "      <td>0</td>\n",
       "    </tr>\n",
       "  </tbody>\n",
       "</table>\n",
       "<p>5 rows × 43 columns</p>\n",
       "</div>"
      ],
      "text/plain": [
       "   Platform_2600  Platform_3DO  Platform_3DS  Platform_DC  Platform_DS  \\\n",
       "0              0             0             0            0            0   \n",
       "1              0             0             0            0            0   \n",
       "2              0             0             0            0            0   \n",
       "3              0             0             0            0            0   \n",
       "4              0             0             0            0            0   \n",
       "\n",
       "   Platform_GB  Platform_GBA  Platform_GC  Platform_GEN  Platform_GG  ...  \\\n",
       "0            0             0            0             0            0  ...   \n",
       "1            0             0            0             0            0  ...   \n",
       "2            0             0            0             0            0  ...   \n",
       "3            0             0            0             0            0  ...   \n",
       "4            1             0            0             0            0  ...   \n",
       "\n",
       "   Genre_Fighting  Genre_Misc  Genre_Platform  Genre_Puzzle  Genre_Racing  \\\n",
       "0               0           0               0             0             0   \n",
       "1               0           0               1             0             0   \n",
       "2               0           0               0             0             1   \n",
       "3               0           0               0             0             0   \n",
       "4               0           0               0             0             0   \n",
       "\n",
       "   Genre_Role-Playing  Genre_Shooter  Genre_Simulation  Genre_Sports  \\\n",
       "0                   0              0                 0             1   \n",
       "1                   0              0                 0             0   \n",
       "2                   0              0                 0             0   \n",
       "3                   0              0                 0             1   \n",
       "4                   1              0                 0             0   \n",
       "\n",
       "   Genre_Strategy  \n",
       "0               0  \n",
       "1               0  \n",
       "2               0  \n",
       "3               0  \n",
       "4               0  \n",
       "\n",
       "[5 rows x 43 columns]"
      ]
     },
     "execution_count": 7,
     "metadata": {},
     "output_type": "execute_result"
    }
   ],
   "source": [
    "dums = pd.get_dummies(df[[\"Platform\",\"Genre\"]])\n",
    "dums.head()"
   ]
  },
  {
   "cell_type": "markdown",
   "metadata": {
    "papermill": {
     "duration": 0.02848,
     "end_time": "2021-01-25T12:03:49.314751",
     "exception": false,
     "start_time": "2021-01-25T12:03:49.286271",
     "status": "completed"
    },
    "tags": []
   },
   "source": [
    "After the categorical variables are converted, any transformed new variable belonging to each variable is selected and deleted.\n",
    "\n",
    "Because the value of the deleted variable can be understood by looking at the other transformed variables already remaining.\n",
    "\n",
    "\n",
    "For example, if all non-deleted variables are 0, it means that the deleted variable must be 1."
   ]
  },
  {
   "cell_type": "code",
   "execution_count": 8,
   "metadata": {
    "execution": {
     "iopub.execute_input": "2021-01-25T12:03:49.374981Z",
     "iopub.status.busy": "2021-01-25T12:03:49.374025Z",
     "iopub.status.idle": "2021-01-25T12:03:49.381275Z",
     "shell.execute_reply": "2021-01-25T12:03:49.381778Z"
    },
    "papermill": {
     "duration": 0.038692,
     "end_time": "2021-01-25T12:03:49.381939",
     "exception": false,
     "start_time": "2021-01-25T12:03:49.343247",
     "status": "completed"
    },
    "tags": []
   },
   "outputs": [],
   "source": [
    "dums.drop([\"Platform_2600\",\"Genre_Misc\"],axis=1,inplace=True)"
   ]
  },
  {
   "cell_type": "markdown",
   "metadata": {
    "papermill": {
     "duration": 0.027754,
     "end_time": "2021-01-25T12:03:49.437083",
     "exception": false,
     "start_time": "2021-01-25T12:03:49.409329",
     "status": "completed"
    },
    "tags": []
   },
   "source": [
    "\n",
    "Then, a new data set is created by combining the data set with the newly created variables. The old categorical variables that have been transformed are removed from the data set because they are no longer needed."
   ]
  },
  {
   "cell_type": "code",
   "execution_count": 9,
   "metadata": {
    "execution": {
     "iopub.execute_input": "2021-01-25T12:03:49.497509Z",
     "iopub.status.busy": "2021-01-25T12:03:49.496441Z",
     "iopub.status.idle": "2021-01-25T12:03:49.523849Z",
     "shell.execute_reply": "2021-01-25T12:03:49.524313Z"
    },
    "papermill": {
     "duration": 0.059072,
     "end_time": "2021-01-25T12:03:49.524453",
     "exception": false,
     "start_time": "2021-01-25T12:03:49.465381",
     "status": "completed"
    },
    "tags": []
   },
   "outputs": [
    {
     "data": {
      "text/html": [
       "<div>\n",
       "<style scoped>\n",
       "    .dataframe tbody tr th:only-of-type {\n",
       "        vertical-align: middle;\n",
       "    }\n",
       "\n",
       "    .dataframe tbody tr th {\n",
       "        vertical-align: top;\n",
       "    }\n",
       "\n",
       "    .dataframe thead th {\n",
       "        text-align: right;\n",
       "    }\n",
       "</style>\n",
       "<table border=\"1\" class=\"dataframe\">\n",
       "  <thead>\n",
       "    <tr style=\"text-align: right;\">\n",
       "      <th></th>\n",
       "      <th>NA_Sales</th>\n",
       "      <th>EU_Sales</th>\n",
       "      <th>JP_Sales</th>\n",
       "      <th>Other_Sales</th>\n",
       "      <th>Global_Sales</th>\n",
       "      <th>Platform_3DO</th>\n",
       "      <th>Platform_3DS</th>\n",
       "      <th>Platform_DC</th>\n",
       "      <th>Platform_DS</th>\n",
       "      <th>Platform_GB</th>\n",
       "      <th>...</th>\n",
       "      <th>Genre_Adventure</th>\n",
       "      <th>Genre_Fighting</th>\n",
       "      <th>Genre_Platform</th>\n",
       "      <th>Genre_Puzzle</th>\n",
       "      <th>Genre_Racing</th>\n",
       "      <th>Genre_Role-Playing</th>\n",
       "      <th>Genre_Shooter</th>\n",
       "      <th>Genre_Simulation</th>\n",
       "      <th>Genre_Sports</th>\n",
       "      <th>Genre_Strategy</th>\n",
       "    </tr>\n",
       "  </thead>\n",
       "  <tbody>\n",
       "    <tr>\n",
       "      <th>0</th>\n",
       "      <td>41.49</td>\n",
       "      <td>29.02</td>\n",
       "      <td>3.77</td>\n",
       "      <td>8.46</td>\n",
       "      <td>82.74</td>\n",
       "      <td>0</td>\n",
       "      <td>0</td>\n",
       "      <td>0</td>\n",
       "      <td>0</td>\n",
       "      <td>0</td>\n",
       "      <td>...</td>\n",
       "      <td>0</td>\n",
       "      <td>0</td>\n",
       "      <td>0</td>\n",
       "      <td>0</td>\n",
       "      <td>0</td>\n",
       "      <td>0</td>\n",
       "      <td>0</td>\n",
       "      <td>0</td>\n",
       "      <td>1</td>\n",
       "      <td>0</td>\n",
       "    </tr>\n",
       "    <tr>\n",
       "      <th>1</th>\n",
       "      <td>29.08</td>\n",
       "      <td>3.58</td>\n",
       "      <td>6.81</td>\n",
       "      <td>0.77</td>\n",
       "      <td>40.24</td>\n",
       "      <td>0</td>\n",
       "      <td>0</td>\n",
       "      <td>0</td>\n",
       "      <td>0</td>\n",
       "      <td>0</td>\n",
       "      <td>...</td>\n",
       "      <td>0</td>\n",
       "      <td>0</td>\n",
       "      <td>1</td>\n",
       "      <td>0</td>\n",
       "      <td>0</td>\n",
       "      <td>0</td>\n",
       "      <td>0</td>\n",
       "      <td>0</td>\n",
       "      <td>0</td>\n",
       "      <td>0</td>\n",
       "    </tr>\n",
       "    <tr>\n",
       "      <th>2</th>\n",
       "      <td>15.85</td>\n",
       "      <td>12.88</td>\n",
       "      <td>3.79</td>\n",
       "      <td>3.31</td>\n",
       "      <td>35.82</td>\n",
       "      <td>0</td>\n",
       "      <td>0</td>\n",
       "      <td>0</td>\n",
       "      <td>0</td>\n",
       "      <td>0</td>\n",
       "      <td>...</td>\n",
       "      <td>0</td>\n",
       "      <td>0</td>\n",
       "      <td>0</td>\n",
       "      <td>0</td>\n",
       "      <td>1</td>\n",
       "      <td>0</td>\n",
       "      <td>0</td>\n",
       "      <td>0</td>\n",
       "      <td>0</td>\n",
       "      <td>0</td>\n",
       "    </tr>\n",
       "    <tr>\n",
       "      <th>3</th>\n",
       "      <td>15.75</td>\n",
       "      <td>11.01</td>\n",
       "      <td>3.28</td>\n",
       "      <td>2.96</td>\n",
       "      <td>33.00</td>\n",
       "      <td>0</td>\n",
       "      <td>0</td>\n",
       "      <td>0</td>\n",
       "      <td>0</td>\n",
       "      <td>0</td>\n",
       "      <td>...</td>\n",
       "      <td>0</td>\n",
       "      <td>0</td>\n",
       "      <td>0</td>\n",
       "      <td>0</td>\n",
       "      <td>0</td>\n",
       "      <td>0</td>\n",
       "      <td>0</td>\n",
       "      <td>0</td>\n",
       "      <td>1</td>\n",
       "      <td>0</td>\n",
       "    </tr>\n",
       "    <tr>\n",
       "      <th>4</th>\n",
       "      <td>11.27</td>\n",
       "      <td>8.89</td>\n",
       "      <td>10.22</td>\n",
       "      <td>1.00</td>\n",
       "      <td>31.37</td>\n",
       "      <td>0</td>\n",
       "      <td>0</td>\n",
       "      <td>0</td>\n",
       "      <td>0</td>\n",
       "      <td>1</td>\n",
       "      <td>...</td>\n",
       "      <td>0</td>\n",
       "      <td>0</td>\n",
       "      <td>0</td>\n",
       "      <td>0</td>\n",
       "      <td>0</td>\n",
       "      <td>1</td>\n",
       "      <td>0</td>\n",
       "      <td>0</td>\n",
       "      <td>0</td>\n",
       "      <td>0</td>\n",
       "    </tr>\n",
       "  </tbody>\n",
       "</table>\n",
       "<p>5 rows × 46 columns</p>\n",
       "</div>"
      ],
      "text/plain": [
       "   NA_Sales  EU_Sales  JP_Sales  Other_Sales  Global_Sales  Platform_3DO  \\\n",
       "0     41.49     29.02      3.77         8.46         82.74             0   \n",
       "1     29.08      3.58      6.81         0.77         40.24             0   \n",
       "2     15.85     12.88      3.79         3.31         35.82             0   \n",
       "3     15.75     11.01      3.28         2.96         33.00             0   \n",
       "4     11.27      8.89     10.22         1.00         31.37             0   \n",
       "\n",
       "   Platform_3DS  Platform_DC  Platform_DS  Platform_GB  ...  Genre_Adventure  \\\n",
       "0             0            0            0            0  ...                0   \n",
       "1             0            0            0            0  ...                0   \n",
       "2             0            0            0            0  ...                0   \n",
       "3             0            0            0            0  ...                0   \n",
       "4             0            0            0            1  ...                0   \n",
       "\n",
       "   Genre_Fighting  Genre_Platform  Genre_Puzzle  Genre_Racing  \\\n",
       "0               0               0             0             0   \n",
       "1               0               1             0             0   \n",
       "2               0               0             0             1   \n",
       "3               0               0             0             0   \n",
       "4               0               0             0             0   \n",
       "\n",
       "   Genre_Role-Playing  Genre_Shooter  Genre_Simulation  Genre_Sports  \\\n",
       "0                   0              0                 0             1   \n",
       "1                   0              0                 0             0   \n",
       "2                   0              0                 0             0   \n",
       "3                   0              0                 0             1   \n",
       "4                   1              0                 0             0   \n",
       "\n",
       "   Genre_Strategy  \n",
       "0               0  \n",
       "1               0  \n",
       "2               0  \n",
       "3               0  \n",
       "4               0  \n",
       "\n",
       "[5 rows x 46 columns]"
      ]
     },
     "execution_count": 9,
     "metadata": {},
     "output_type": "execute_result"
    }
   ],
   "source": [
    "final_df= pd.concat([df,dums],axis=1)\n",
    "final_df.drop([\"Platform\",\"Genre\"],axis=1,inplace=True)\n",
    "final_df.head()"
   ]
  },
  {
   "cell_type": "markdown",
   "metadata": {
    "papermill": {
     "duration": 0.029307,
     "end_time": "2021-01-25T12:03:49.583502",
     "exception": false,
     "start_time": "2021-01-25T12:03:49.554195",
     "status": "completed"
    },
    "tags": []
   },
   "source": [
    "\n",
    "This data set is now ready to be used. Let's start."
   ]
  },
  {
   "cell_type": "markdown",
   "metadata": {
    "papermill": {
     "duration": 0.029343,
     "end_time": "2021-01-25T12:03:49.642227",
     "exception": false,
     "start_time": "2021-01-25T12:03:49.612884",
     "status": "completed"
    },
    "tags": []
   },
   "source": [
    "# Simple Linear Regression"
   ]
  },
  {
   "cell_type": "markdown",
   "metadata": {
    "papermill": {
     "duration": 0.030856,
     "end_time": "2021-01-25T12:03:49.702644",
     "exception": false,
     "start_time": "2021-01-25T12:03:49.671788",
     "status": "completed"
    },
    "tags": []
   },
   "source": [
    "### Outlier Control"
   ]
  },
  {
   "cell_type": "code",
   "execution_count": 18,
   "metadata": {
    "execution": {
     "iopub.execute_input": "2021-01-25T12:03:49.766383Z",
     "iopub.status.busy": "2021-01-25T12:03:49.765424Z",
     "iopub.status.idle": "2021-01-25T12:03:50.174238Z",
     "shell.execute_reply": "2021-01-25T12:03:50.173576Z"
    },
    "papermill": {
     "duration": 0.441704,
     "end_time": "2021-01-25T12:03:50.174355",
     "exception": false,
     "start_time": "2021-01-25T12:03:49.732651",
     "status": "completed"
    },
    "tags": []
   },
   "outputs": [
    {
     "ename": "TypeError",
     "evalue": "regplot() takes from 0 to 1 positional arguments but 2 positional arguments (and 2 keyword-only arguments) were given",
     "output_type": "error",
     "traceback": [
      "\u001b[1;31m---------------------------------------------------------------------------\u001b[0m",
      "\u001b[1;31mTypeError\u001b[0m                                 Traceback (most recent call last)",
      "Cell \u001b[1;32mIn[18], line 3\u001b[0m\n\u001b[0;32m      1\u001b[0m \u001b[38;5;28;01mimport\u001b[39;00m \u001b[38;5;21;01mseaborn\u001b[39;00m \u001b[38;5;28;01mas\u001b[39;00m \u001b[38;5;21;01msns\u001b[39;00m\n\u001b[0;32m      2\u001b[0m \u001b[38;5;28;01mimport\u001b[39;00m \u001b[38;5;21;01mmatplotlib\u001b[39;00m\u001b[38;5;21;01m.\u001b[39;00m\u001b[38;5;21;01mpyplot\u001b[39;00m \u001b[38;5;28;01mas\u001b[39;00m \u001b[38;5;21;01mplt\u001b[39;00m\n\u001b[1;32m----> 3\u001b[0m g \u001b[38;5;241m=\u001b[39m \u001b[43msns\u001b[49m\u001b[38;5;241;43m.\u001b[39;49m\u001b[43mregplot\u001b[49m\u001b[43m(\u001b[49m\u001b[43mfinal_df\u001b[49m\u001b[38;5;241;43m.\u001b[39;49m\u001b[43mGlobal_Sales\u001b[49m\u001b[43m,\u001b[49m\u001b[43mfinal_df\u001b[49m\u001b[38;5;241;43m.\u001b[39;49m\u001b[43mEU_Sales\u001b[49m\u001b[43m,\u001b[49m\u001b[43mci\u001b[49m\u001b[38;5;241;43m=\u001b[39;49m\u001b[38;5;28;43;01mNone\u001b[39;49;00m\u001b[43m,\u001b[49m\u001b[43mscatter_kws\u001b[49m\u001b[38;5;241;43m=\u001b[39;49m\u001b[43m \u001b[49m\u001b[43m{\u001b[49m\u001b[38;5;124;43m\"\u001b[39;49m\u001b[38;5;124;43mcolor\u001b[39;49m\u001b[38;5;124;43m\"\u001b[39;49m\u001b[43m:\u001b[49m\u001b[38;5;124;43m\"\u001b[39;49m\u001b[38;5;124;43mr\u001b[39;49m\u001b[38;5;124;43m\"\u001b[39;49m\u001b[43m,\u001b[49m\u001b[38;5;124;43m\"\u001b[39;49m\u001b[38;5;124;43ms\u001b[39;49m\u001b[38;5;124;43m\"\u001b[39;49m\u001b[43m:\u001b[49m\u001b[38;5;241;43m9\u001b[39;49m\u001b[43m}\u001b[49m\u001b[43m)\u001b[49m\n\u001b[0;32m      4\u001b[0m plt\u001b[38;5;241m.\u001b[39mxlim(\u001b[38;5;241m-\u001b[39m\u001b[38;5;241m2\u001b[39m,\u001b[38;5;241m85\u001b[39m)\n\u001b[0;32m      5\u001b[0m plt\u001b[38;5;241m.\u001b[39mylim(bottom\u001b[38;5;241m=\u001b[39m\u001b[38;5;241m0\u001b[39m)\n",
      "\u001b[1;31mTypeError\u001b[0m: regplot() takes from 0 to 1 positional arguments but 2 positional arguments (and 2 keyword-only arguments) were given"
     ]
    }
   ],
   "source": [
    "import seaborn as sns\n",
    "import matplotlib.pyplot as plt\n",
    "g = sns.regplot(final_df.Global_Sales,final_df.EU_Sales,ci=None,scatter_kws= {\"color\":\"r\",\"s\":9})\n",
    "plt.xlim(-2,85)\n",
    "plt.ylim(bottom=0)"
   ]
  },
  {
   "cell_type": "markdown",
   "metadata": {
    "papermill": {
     "duration": 0.030881,
     "end_time": "2021-01-25T12:03:50.236509",
     "exception": false,
     "start_time": "2021-01-25T12:03:50.205628",
     "status": "completed"
    },
    "tags": []
   },
   "source": [
    "As you can see, there is 1 extreme outlier in the variable \"EU_Sales\", so let's eliminate this value."
   ]
  },
  {
   "cell_type": "code",
   "execution_count": null,
   "metadata": {
    "execution": {
     "iopub.execute_input": "2021-01-25T12:03:50.305163Z",
     "iopub.status.busy": "2021-01-25T12:03:50.304220Z",
     "iopub.status.idle": "2021-01-25T12:03:50.330359Z",
     "shell.execute_reply": "2021-01-25T12:03:50.329662Z"
    },
    "papermill": {
     "duration": 0.062341,
     "end_time": "2021-01-25T12:03:50.330473",
     "exception": false,
     "start_time": "2021-01-25T12:03:50.268132",
     "status": "completed"
    },
    "tags": []
   },
   "outputs": [
    {
     "data": {
      "text/plain": [
       "0    29.02\n",
       "Name: EU_Sales, dtype: float64"
      ]
     },
     "execution_count": 12,
     "metadata": {},
     "output_type": "execute_result"
    }
   ],
   "source": [
    "final_df.EU_Sales[df.EU_Sales>15]\n",
    "#this value is in index 0."
   ]
  },
  {
   "cell_type": "code",
   "execution_count": null,
   "metadata": {
    "execution": {
     "iopub.execute_input": "2021-01-25T12:03:50.399899Z",
     "iopub.status.busy": "2021-01-25T12:03:50.399270Z",
     "iopub.status.idle": "2021-01-25T12:03:50.407885Z",
     "shell.execute_reply": "2021-01-25T12:03:50.407338Z"
    },
    "papermill": {
     "duration": 0.045764,
     "end_time": "2021-01-25T12:03:50.408016",
     "exception": false,
     "start_time": "2021-01-25T12:03:50.362252",
     "status": "completed"
    },
    "tags": []
   },
   "outputs": [],
   "source": [
    "df_outlier = final_df.drop([0],axis=0) "
   ]
  },
  {
   "cell_type": "code",
   "execution_count": null,
   "metadata": {
    "execution": {
     "iopub.execute_input": "2021-01-25T12:03:50.481775Z",
     "iopub.status.busy": "2021-01-25T12:03:50.481108Z",
     "iopub.status.idle": "2021-01-25T12:03:50.649997Z",
     "shell.execute_reply": "2021-01-25T12:03:50.650620Z"
    },
    "papermill": {
     "duration": 0.209764,
     "end_time": "2021-01-25T12:03:50.650786",
     "exception": false,
     "start_time": "2021-01-25T12:03:50.441022",
     "status": "completed"
    },
    "tags": []
   },
   "outputs": [
    {
     "data": {
      "text/plain": [
       "(0.0, 13.524113383535223)"
      ]
     },
     "execution_count": 14,
     "metadata": {},
     "output_type": "execute_result"
    },
    {
     "data": {
      "image/png": "[encoded data removed]",
      "text/plain": [
       "<Figure size 432x288 with 1 Axes>"
      ]
     },
     "metadata": {
      "needs_background": "light"
     },
     "output_type": "display_data"
    }
   ],
   "source": [
    "import matplotlib.pyplot as plt\n",
    "g = sns.regplot(df_outlier.Global_Sales,df_outlier.EU_Sales,ci=None,scatter_kws= {\"color\":\"r\",\"s\":9});\n",
    "plt.xlim(-2,45)\n",
    "plt.ylim(bottom=0)"
   ]
  },
  {
   "cell_type": "markdown",
   "metadata": {
    "papermill": {
     "duration": 0.033071,
     "end_time": "2021-01-25T12:03:50.722541",
     "exception": false,
     "start_time": "2021-01-25T12:03:50.689470",
     "status": "completed"
    },
    "tags": []
   },
   "source": [
    "Let's choose dependent and independent variables."
   ]
  },
  {
   "cell_type": "code",
   "execution_count": null,
   "metadata": {
    "execution": {
     "iopub.execute_input": "2021-01-25T12:03:50.792908Z",
     "iopub.status.busy": "2021-01-25T12:03:50.791950Z",
     "iopub.status.idle": "2021-01-25T12:03:50.797441Z",
     "shell.execute_reply": "2021-01-25T12:03:50.798001Z"
    },
    "papermill": {
     "duration": 0.042523,
     "end_time": "2021-01-25T12:03:50.798143",
     "exception": false,
     "start_time": "2021-01-25T12:03:50.755620",
     "status": "completed"
    },
    "tags": []
   },
   "outputs": [],
   "source": [
    "x = df_outlier[[\"EU_Sales\"]]\n",
    "y = df_outlier[\"Global_Sales\"]"
   ]
  },
  {
   "cell_type": "markdown",
   "metadata": {
    "papermill": {
     "duration": 0.033137,
     "end_time": "2021-01-25T12:03:50.865289",
     "exception": false,
     "start_time": "2021-01-25T12:03:50.832152",
     "status": "completed"
    },
    "tags": []
   },
   "source": [
    "\n",
    "To process the data, let's create the model and fit this model with X and Y variables."
   ]
  },
  {
   "cell_type": "code",
   "execution_count": null,
   "metadata": {
    "execution": {
     "iopub.execute_input": "2021-01-25T12:03:50.935471Z",
     "iopub.status.busy": "2021-01-25T12:03:50.934478Z",
     "iopub.status.idle": "2021-01-25T12:03:50.950030Z",
     "shell.execute_reply": "2021-01-25T12:03:50.949407Z"
    },
    "papermill": {
     "duration": 0.05176,
     "end_time": "2021-01-25T12:03:50.950168",
     "exception": false,
     "start_time": "2021-01-25T12:03:50.898408",
     "status": "completed"
    },
    "tags": []
   },
   "outputs": [],
   "source": [
    "reg = LinearRegression()\n",
    "model = reg.fit(x,y)"
   ]
  },
  {
   "cell_type": "markdown",
   "metadata": {
    "papermill": {
     "duration": 0.033072,
     "end_time": "2021-01-25T12:03:51.017808",
     "exception": false,
     "start_time": "2021-01-25T12:03:50.984736",
     "status": "completed"
    },
    "tags": []
   },
   "source": [
    "\n",
    "Let's look at the score of the model we created."
   ]
  },
  {
   "cell_type": "code",
   "execution_count": null,
   "metadata": {
    "execution": {
     "iopub.execute_input": "2021-01-25T12:03:51.088417Z",
     "iopub.status.busy": "2021-01-25T12:03:51.087732Z",
     "iopub.status.idle": "2021-01-25T12:03:51.096703Z",
     "shell.execute_reply": "2021-01-25T12:03:51.097230Z"
    },
    "papermill": {
     "duration": 0.046045,
     "end_time": "2021-01-25T12:03:51.097372",
     "exception": false,
     "start_time": "2021-01-25T12:03:51.051327",
     "status": "completed"
    },
    "tags": []
   },
   "outputs": [
    {
     "data": {
      "text/plain": [
       "0.7778253603068711"
      ]
     },
     "execution_count": 17,
     "metadata": {},
     "output_type": "execute_result"
    }
   ],
   "source": [
    "model.score(x,y)"
   ]
  },
  {
   "cell_type": "markdown",
   "metadata": {
    "papermill": {
     "duration": 0.033583,
     "end_time": "2021-01-25T12:03:51.164729",
     "exception": false,
     "start_time": "2021-01-25T12:03:51.131146",
     "status": "completed"
    },
    "tags": []
   },
   "source": [
    "\n",
    "After creating the model, let's make it guess by giving certain values. (It predicts the \"Global_Sales\" variable according to the \"EU_Sales\" variable.)"
   ]
  },
  {
   "cell_type": "code",
   "execution_count": null,
   "metadata": {
    "execution": {
     "iopub.execute_input": "2021-01-25T12:03:51.237533Z",
     "iopub.status.busy": "2021-01-25T12:03:51.236878Z",
     "iopub.status.idle": "2021-01-25T12:03:51.242153Z",
     "shell.execute_reply": "2021-01-25T12:03:51.242700Z"
    },
    "papermill": {
     "duration": 0.043117,
     "end_time": "2021-01-25T12:03:51.242844",
     "exception": false,
     "start_time": "2021-01-25T12:03:51.199727",
     "status": "completed"
    },
    "tags": []
   },
   "outputs": [
    {
     "data": {
      "text/plain": [
       "array([41.55144923])"
      ]
     },
     "execution_count": 18,
     "metadata": {},
     "output_type": "execute_result"
    }
   ],
   "source": [
    "model.predict([[15]])"
   ]
  },
  {
   "cell_type": "code",
   "execution_count": null,
   "metadata": {
    "execution": {
     "iopub.execute_input": "2021-01-25T12:03:51.314397Z",
     "iopub.status.busy": "2021-01-25T12:03:51.313763Z",
     "iopub.status.idle": "2021-01-25T12:03:51.319526Z",
     "shell.execute_reply": "2021-01-25T12:03:51.320141Z"
    },
    "papermill": {
     "duration": 0.043667,
     "end_time": "2021-01-25T12:03:51.320293",
     "exception": false,
     "start_time": "2021-01-25T12:03:51.276626",
     "status": "completed"
    },
    "tags": []
   },
   "outputs": [
    {
     "data": {
      "text/plain": [
       "array([ 33.26762842,  82.97055326, 138.1960253 ])"
      ]
     },
     "execution_count": 19,
     "metadata": {},
     "output_type": "execute_result"
    }
   ],
   "source": [
    "est = [[12],[30],[50]]\n",
    "model.predict(est)"
   ]
  },
  {
   "cell_type": "markdown",
   "metadata": {
    "papermill": {
     "duration": 0.034742,
     "end_time": "2021-01-25T12:03:51.389689",
     "exception": false,
     "start_time": "2021-01-25T12:03:51.354947",
     "status": "completed"
    },
    "tags": []
   },
   "source": [
    "# Multiple Linear Regression"
   ]
  },
  {
   "cell_type": "markdown",
   "metadata": {
    "papermill": {
     "duration": 0.03571,
     "end_time": "2021-01-25T12:03:51.463119",
     "exception": false,
     "start_time": "2021-01-25T12:03:51.427409",
     "status": "completed"
    },
    "tags": []
   },
   "source": [
    "\n",
    "In multiple linear regression, this difference is selected as dependent on one variable and all remaining variables are selected as independent variables."
   ]
  },
  {
   "cell_type": "code",
   "execution_count": null,
   "metadata": {
    "execution": {
     "iopub.execute_input": "2021-01-25T12:03:51.536085Z",
     "iopub.status.busy": "2021-01-25T12:03:51.535421Z",
     "iopub.status.idle": "2021-01-25T12:03:51.542785Z",
     "shell.execute_reply": "2021-01-25T12:03:51.543308Z"
    },
    "papermill": {
     "duration": 0.045613,
     "end_time": "2021-01-25T12:03:51.543447",
     "exception": false,
     "start_time": "2021-01-25T12:03:51.497834",
     "status": "completed"
    },
    "tags": []
   },
   "outputs": [],
   "source": [
    "x=final_df.drop(\"Global_Sales\",axis =1)\n",
    "y = final_df.Global_Sales"
   ]
  },
  {
   "cell_type": "markdown",
   "metadata": {
    "papermill": {
     "duration": 0.034712,
     "end_time": "2021-01-25T12:03:51.613541",
     "exception": false,
     "start_time": "2021-01-25T12:03:51.578829",
     "status": "completed"
    },
    "tags": []
   },
   "source": [
    "Now we need to divide our data set into \"test\" and \"train\". Because after training our program from the \"train\" set, we will test it with our \"test\" set to see the error value.\n",
    "\n",
    "For this we will use the **\"train_test_split\"** function in the **\"scikit-learn\"** module."
   ]
  },
  {
   "cell_type": "code",
   "execution_count": null,
   "metadata": {
    "execution": {
     "iopub.execute_input": "2021-01-25T12:03:51.693506Z",
     "iopub.status.busy": "2021-01-25T12:03:51.692397Z",
     "iopub.status.idle": "2021-01-25T12:03:51.698878Z",
     "shell.execute_reply": "2021-01-25T12:03:51.699427Z"
    },
    "papermill": {
     "duration": 0.051106,
     "end_time": "2021-01-25T12:03:51.699578",
     "exception": false,
     "start_time": "2021-01-25T12:03:51.648472",
     "status": "completed"
    },
    "tags": []
   },
   "outputs": [],
   "source": [
    "from sklearn.model_selection import train_test_split\n",
    "x_train,x_test,y_train,y_test = train_test_split(x,y,test_size = 0.20,random_state = 13)\n",
    "#test_size = \"selects what percentage of the data set will get as \"test\"\""
   ]
  },
  {
   "cell_type": "code",
   "execution_count": null,
   "metadata": {
    "execution": {
     "iopub.execute_input": "2021-01-25T12:03:51.774536Z",
     "iopub.status.busy": "2021-01-25T12:03:51.773893Z",
     "iopub.status.idle": "2021-01-25T12:03:51.780973Z",
     "shell.execute_reply": "2021-01-25T12:03:51.780425Z"
    },
    "papermill": {
     "duration": 0.04502,
     "end_time": "2021-01-25T12:03:51.781135",
     "exception": false,
     "start_time": "2021-01-25T12:03:51.736115",
     "status": "completed"
    },
    "tags": []
   },
   "outputs": [
    {
     "name": "stdout",
     "output_type": "stream",
     "text": [
      "(13278, 45)\n",
      "(13278,)\n",
      "(3320, 45)\n",
      "(3320,)\n"
     ]
    }
   ],
   "source": [
    "print(x_train.shape)\n",
    "print(y_train.shape)\n",
    "print(x_test.shape)\n",
    "print(y_test.shape)\n",
    "#Let's look at the shape information"
   ]
  },
  {
   "cell_type": "code",
   "execution_count": null,
   "metadata": {
    "execution": {
     "iopub.execute_input": "2021-01-25T12:03:51.859294Z",
     "iopub.status.busy": "2021-01-25T12:03:51.858271Z",
     "iopub.status.idle": "2021-01-25T12:03:51.917993Z",
     "shell.execute_reply": "2021-01-25T12:03:51.918494Z"
    },
    "papermill": {
     "duration": 0.100375,
     "end_time": "2021-01-25T12:03:51.918672",
     "exception": false,
     "start_time": "2021-01-25T12:03:51.818297",
     "status": "completed"
    },
    "tags": []
   },
   "outputs": [],
   "source": [
    "lm = LinearRegression()\n",
    "model = lm.fit(x_train,y_train)\n",
    "#Let's create our model and train \"x_train\" and \"y_train\" sets."
   ]
  },
  {
   "cell_type": "markdown",
   "metadata": {
    "papermill": {
     "duration": 0.036686,
     "end_time": "2021-01-25T12:03:51.991444",
     "exception": false,
     "start_time": "2021-01-25T12:03:51.954758",
     "status": "completed"
    },
    "tags": []
   },
   "source": [
    "\n",
    "After training our model, let's look at the total error squares (margin of error) with the \"mean_squared_error\" method in the scikit-learn module.\n",
    "\n",
    "\n",
    "The model is provided to generate estimates by using the \"x_test\" set. It is then checked how close this generated prediction is to the \"y_test\" set.\n",
    "\n",
    "The number becomes readable by inserting it into the squaring function in the numpy module."
   ]
  },
  {
   "cell_type": "code",
   "execution_count": null,
   "metadata": {
    "execution": {
     "iopub.execute_input": "2021-01-25T12:03:52.067697Z",
     "iopub.status.busy": "2021-01-25T12:03:52.066704Z",
     "iopub.status.idle": "2021-01-25T12:03:52.077032Z",
     "shell.execute_reply": "2021-01-25T12:03:52.077525Z"
    },
    "papermill": {
     "duration": 0.050067,
     "end_time": "2021-01-25T12:03:52.077662",
     "exception": false,
     "start_time": "2021-01-25T12:03:52.027595",
     "status": "completed"
    },
    "tags": []
   },
   "outputs": [
    {
     "data": {
      "text/plain": [
       "0.0051153111219672705"
      ]
     },
     "execution_count": 24,
     "metadata": {},
     "output_type": "execute_result"
    }
   ],
   "source": [
    "from sklearn.metrics import mean_squared_error\n",
    "y_pred = model.predict(x_test)\n",
    "np.sqrt(mean_squared_error(y_test,y_pred))"
   ]
  },
  {
   "cell_type": "code",
   "execution_count": null,
   "metadata": {
    "papermill": {
     "duration": 0.037895,
     "end_time": "2021-01-25T12:03:52.152073",
     "exception": false,
     "start_time": "2021-01-25T12:03:52.114178",
     "status": "completed"
    },
    "tags": []
   },
   "outputs": [],
   "source": []
  }
 ],
 "metadata": {
  "kernelspec": {
   "display_name": "Python 3",
   "language": "python",
   "name": "python3"
  },
  "language_info": {
   "codemirror_mode": {
    "name": "ipython",
    "version": 3
   },
   "file_extension": ".py",
   "mimetype": "text/x-python",
   "name": "python",
   "nbconvert_exporter": "python",
   "pygments_lexer": "ipython3",
   "version": "3.11.6"
  },
  "papermill": {
   "duration": 10.24642,
   "end_time": "2021-01-25T12:03:52.294885",
   "environment_variables": {},
   "exception": null,
   "input_path": "__notebook__.ipynb",
   "output_path": "__notebook__.ipynb",
   "parameters": {},
   "start_time": "2021-01-25T12:03:42.048465",
   "version": "2.1.0"
  }
 },
 "nbformat": 4,
 "nbformat_minor": 4
}
